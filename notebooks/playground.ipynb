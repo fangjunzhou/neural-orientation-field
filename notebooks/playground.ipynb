{
 "cells": [
  {
   "cell_type": "code",
   "execution_count": 6,
   "id": "0fee6875-6726-4761-a1e0-52f2fe951a53",
   "metadata": {},
   "outputs": [],
   "source": [
    "import pathlib\n",
    "import json\n",
    "\n",
    "import neural_orientation_field.utils as utils\n",
    "import neural_orientation_field.colmap.colmap_utils as colutils"
   ]
  },
  {
   "cell_type": "code",
   "execution_count": 14,
   "id": "d33fdbb2-902f-4068-819e-3f57102911bf",
   "metadata": {},
   "outputs": [],
   "source": [
    "# Config path.\n",
    "config_path: pathlib.Path = pathlib.Path(\"../nof-config.json\")\n",
    "if not config_path.exists():\n",
    "    raise Exception(\"The project config doesn't exist.\")\n",
    "# Model path.\n",
    "model_path: pathlib.Path = pathlib.Path(\"../data/cache/colmap/0/\")\n",
    "if not model_path.exists():\n",
    "    raise Exception(\"The COLMAP model directory doesn't exist.\")"
   ]
  },
  {
   "cell_type": "code",
   "execution_count": 12,
   "id": "59026ae9-0208-46ea-9950-36e2c234d8b9",
   "metadata": {},
   "outputs": [
    {
     "name": "stdout",
     "output_type": "stream",
     "text": [
      "{\n",
      "  \"input_path\": \"/Users/fangjun/Documents/stanford/cs229/final-project/data/images\",\n",
      "  \"output_path\": \"/Users/fangjun/Documents/stanford/cs229/final-project/data/output\",\n",
      "  \"cache_path\": \"/Users/fangjun/Documents/stanford/cs229/final-project/data/cache\"\n",
      "}\n"
     ]
    }
   ],
   "source": [
    "# Read config.\n",
    "with open(config_path, \"r\") as config_file:\n",
    "    config_dict = json.load(config_file)\n",
    "    project_config = utils.ProjectConfig.from_dict(config_dict)\n",
    "\n",
    "print(json.dumps(project_config.to_dict(), indent=2))"
   ]
  }
 ],
 "metadata": {
  "kernelspec": {
   "display_name": "Python 3 (ipykernel)",
   "language": "python",
   "name": "python3"
  },
  "language_info": {
   "codemirror_mode": {
    "name": "ipython",
    "version": 3
   },
   "file_extension": ".py",
   "mimetype": "text/x-python",
   "name": "python",
   "nbconvert_exporter": "python",
   "pygments_lexer": "ipython3",
   "version": "3.11.9"
  }
 },
 "nbformat": 4,
 "nbformat_minor": 5
}
